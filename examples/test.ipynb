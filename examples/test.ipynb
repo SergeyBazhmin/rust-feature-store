{
 "cells": [
  {
   "cell_type": "code",
   "execution_count": 1,
   "metadata": {},
   "outputs": [],
   "source": [
    "from feature_store import FeatureStoreClient\n",
    "import polars as pl\n",
    "import numpy as np"
   ]
  },
  {
   "cell_type": "code",
   "execution_count": 2,
   "metadata": {},
   "outputs": [],
   "source": [
    "client = FeatureStoreClient(host=\"localhost\", port=6379)"
   ]
  },
  {
   "cell_type": "markdown",
   "metadata": {},
   "source": [
    "# Create some tables and insert data. "
   ]
  },
  {
   "cell_type": "markdown",
   "metadata": {},
   "source": [
    "## supported data types: i8, i16, i32, i64, f32, f64, utf-8"
   ]
  },
  {
   "cell_type": "code",
   "execution_count": 3,
   "metadata": {},
   "outputs": [
    {
     "name": "stdout",
     "output_type": "stream",
     "text": [
      "Inserting s3 feature\n",
      "Inserting s4 feature\n",
      "Inserting s5 feature\n",
      "Inserting s6 feature\n",
      "Inserting s3 feature\n",
      "Inserting s4 feature\n",
      "Inserting s5 feature\n",
      "Inserting s6 feature\n",
      "Inserting s3 feature\n",
      "Inserting s4 feature\n",
      "Inserting s5 feature\n",
      "Inserting s6 feature\n"
     ]
    }
   ],
   "source": [
    "n_items = 1000\n",
    "data = pl.DataFrame({\n",
    "    \"s1\": np.arange(n_items, dtype=np.int32),\n",
    "    \"s2\": [\"a\"] * n_items, \n",
    "    \"s3\": np.random.normal(0, 10, n_items),\n",
    "    \"s4\": np.random.normal(0, 10, n_items),\n",
    "    \"s5\": np.random.normal(0, 10, n_items),\n",
    "    \"s6\": np.random.normal(0, 10, n_items)\n",
    "})\n",
    "\n",
    "client.create_table(\n",
    "    table_name=\"features1\",\n",
    "    columns=[\"s1\", \"s2\", \"s3\", \"s4\", \"s5\", \"s6\"], \n",
    "    primary_key=[\"s1\", \"s2\"], \n",
    "    data_types=[\"i32\",\"utf8\", \"f32\", \"f32\", \"f32\", \"f32\"]\n",
    ")\n",
    "client.create_table(\n",
    "    table_name=\"features2\",\n",
    "    columns=[\"s1\", \"s2\", \"s3\", \"s4\", \"s5\", \"s6\"], \n",
    "    primary_key=[\"s1\", \"s2\"], \n",
    "    data_types=[\"i32\",\"utf8\", \"f32\", \"f32\", \"f32\", \"f32\"]\n",
    ")\n",
    "client.create_table(\n",
    "    table_name=\"features3\",\n",
    "    columns=[\"s1\", \"s2\", \"s3\", \"s4\", \"s5\", \"s6\"], \n",
    "    primary_key=[\"s1\", \"s2\"], \n",
    "    data_types=[\"i32\",\"utf8\", \"f32\", \"f32\", \"f32\", \"f32\"]\n",
    ")\n",
    "\n",
    "client.insert(table_name=\"features1\", data=data)\n",
    "client.insert(table_name=\"features2\", data=data)\n",
    "client.insert(table_name=\"features3\", data=data)"
   ]
  },
  {
   "cell_type": "markdown",
   "metadata": {},
   "source": [
    "# Query some records for an imaginary ml model"
   ]
  },
  {
   "cell_type": "code",
   "execution_count": 4,
   "metadata": {},
   "outputs": [],
   "source": [
    "n_items = 200\n",
    "keys = pl.DataFrame({\"s1\": np.arange(n_items), \"s2\": [\"a\"] * n_items})"
   ]
  },
  {
   "cell_type": "code",
   "execution_count": 5,
   "metadata": {},
   "outputs": [
    {
     "data": {
      "text/html": "<div>\n<style scoped>\n    .dataframe tbody tr th:only-of-type {\n        vertical-align: middle;\n    }\n\n    .dataframe tbody tr th {\n        vertical-align: top;\n    }\n\n    .dataframe thead th {\n        text-align: right;\n    }\n\n    .dataframe td {\n        white-space: pre;\n    }\n\n    .dataframe td {\n        padding-top: 0;\n    }\n\n    .dataframe td {\n        padding-bottom: 0;\n    }\n</style>\n<table border=\"1\" class=\"dataframe\" >\n<small>shape: (200, 2)</small>\n<thead>\n<tr>\n<th>\ns1\n</th>\n<th>\ns2\n</th>\n</tr>\n<tr>\n<td>\ni64\n</td>\n<td>\nstr\n</td>\n</tr>\n</thead>\n<tbody>\n<tr>\n<td>\n0\n</td>\n<td>\n\"a\"\n</td>\n</tr>\n<tr>\n<td>\n1\n</td>\n<td>\n\"a\"\n</td>\n</tr>\n<tr>\n<td>\n2\n</td>\n<td>\n\"a\"\n</td>\n</tr>\n<tr>\n<td>\n3\n</td>\n<td>\n\"a\"\n</td>\n</tr>\n<tr>\n<td>\n4\n</td>\n<td>\n\"a\"\n</td>\n</tr>\n<tr>\n<td>\n5\n</td>\n<td>\n\"a\"\n</td>\n</tr>\n<tr>\n<td>\n6\n</td>\n<td>\n\"a\"\n</td>\n</tr>\n<tr>\n<td>\n7\n</td>\n<td>\n\"a\"\n</td>\n</tr>\n<tr>\n<td>\n8\n</td>\n<td>\n\"a\"\n</td>\n</tr>\n<tr>\n<td>\n9\n</td>\n<td>\n\"a\"\n</td>\n</tr>\n<tr>\n<td>\n10\n</td>\n<td>\n\"a\"\n</td>\n</tr>\n<tr>\n<td>\n11\n</td>\n<td>\n\"a\"\n</td>\n</tr>\n<tr>\n<td>\n...\n</td>\n<td>\n...\n</td>\n</tr>\n<tr>\n<td>\n188\n</td>\n<td>\n\"a\"\n</td>\n</tr>\n<tr>\n<td>\n189\n</td>\n<td>\n\"a\"\n</td>\n</tr>\n<tr>\n<td>\n190\n</td>\n<td>\n\"a\"\n</td>\n</tr>\n<tr>\n<td>\n191\n</td>\n<td>\n\"a\"\n</td>\n</tr>\n<tr>\n<td>\n192\n</td>\n<td>\n\"a\"\n</td>\n</tr>\n<tr>\n<td>\n193\n</td>\n<td>\n\"a\"\n</td>\n</tr>\n<tr>\n<td>\n194\n</td>\n<td>\n\"a\"\n</td>\n</tr>\n<tr>\n<td>\n195\n</td>\n<td>\n\"a\"\n</td>\n</tr>\n<tr>\n<td>\n196\n</td>\n<td>\n\"a\"\n</td>\n</tr>\n<tr>\n<td>\n197\n</td>\n<td>\n\"a\"\n</td>\n</tr>\n<tr>\n<td>\n198\n</td>\n<td>\n\"a\"\n</td>\n</tr>\n<tr>\n<td>\n199\n</td>\n<td>\n\"a\"\n</td>\n</tr>\n</tbody>\n</table>\n</div>",
      "text/plain": "shape: (200, 2)\n┌─────┬─────┐\n│ s1  ┆ s2  │\n│ --- ┆ --- │\n│ i64 ┆ str │\n╞═════╪═════╡\n│ 0   ┆ a   │\n├╌╌╌╌╌┼╌╌╌╌╌┤\n│ 1   ┆ a   │\n├╌╌╌╌╌┼╌╌╌╌╌┤\n│ 2   ┆ a   │\n├╌╌╌╌╌┼╌╌╌╌╌┤\n│ 3   ┆ a   │\n├╌╌╌╌╌┼╌╌╌╌╌┤\n│ ... ┆ ... │\n├╌╌╌╌╌┼╌╌╌╌╌┤\n│ 196 ┆ a   │\n├╌╌╌╌╌┼╌╌╌╌╌┤\n│ 197 ┆ a   │\n├╌╌╌╌╌┼╌╌╌╌╌┤\n│ 198 ┆ a   │\n├╌╌╌╌╌┼╌╌╌╌╌┤\n│ 199 ┆ a   │\n└─────┴─────┘"
     },
     "execution_count": 5,
     "metadata": {},
     "output_type": "execute_result"
    }
   ],
   "source": [
    "keys"
   ]
  },
  {
   "cell_type": "code",
   "execution_count": 7,
   "metadata": {},
   "outputs": [
    {
     "data": {
      "text/plain": "['features3', 'features1', 'features2']"
     },
     "execution_count": 7,
     "metadata": {},
     "output_type": "execute_result"
    }
   ],
   "source": [
    "client.get_tables()"
   ]
  },
  {
   "cell_type": "code",
   "execution_count": 6,
   "metadata": {},
   "outputs": [
    {
     "data": {
      "text/plain": "{'s1': 'i32',\n 's2': 'utf8',\n 's3': 'f32',\n 's4': 'f32',\n 's5': 'f32',\n 's6': 'f32',\n 'primary_key': ['s1', 's2']}"
     },
     "execution_count": 6,
     "metadata": {},
     "output_type": "execute_result"
    }
   ],
   "source": [
    "client.describe_table(table_name=\"features1\")"
   ]
  },
  {
   "cell_type": "markdown",
   "metadata": {},
   "source": [
    "## client knows nothing about your tables, so it is neccessary to load tables' metadata to handle selection properly (it saves some time because we do not need to additionally query redis / keydb for metadata during the 'select' requests). If we create tables client will automatically save metadata in the cache, so there is no need loading it."
   ]
  },
  {
   "cell_type": "code",
   "execution_count": 8,
   "metadata": {},
   "outputs": [],
   "source": [
    "# client.load_table_meta(table_name=\"features1\")\n",
    "# client.load_table_meta(table_name=\"features3\")\n",
    "# client.load_table_meta(table_name=\"features2\")"
   ]
  },
  {
   "cell_type": "code",
   "execution_count": 12,
   "metadata": {},
   "outputs": [
    {
     "data": {
      "text/plain": "{'features1': shape: (200, 4)\n ┌────────────┬────────────┬────────────┬────────────┐\n │ s3         ┆ s4         ┆ s5         ┆ s6         │\n │ ---        ┆ ---        ┆ ---        ┆ ---        │\n │ f32        ┆ f32        ┆ f32        ┆ f32        │\n ╞════════════╪════════════╪════════════╪════════════╡\n │ -9.392688  ┆ 7.926713   ┆ -22.057686 ┆ -14.6161   │\n ├╌╌╌╌╌╌╌╌╌╌╌╌┼╌╌╌╌╌╌╌╌╌╌╌╌┼╌╌╌╌╌╌╌╌╌╌╌╌┼╌╌╌╌╌╌╌╌╌╌╌╌┤\n │ -15.488579 ┆ 1.7225     ┆ -0.089746  ┆ -8.561509  │\n ├╌╌╌╌╌╌╌╌╌╌╌╌┼╌╌╌╌╌╌╌╌╌╌╌╌┼╌╌╌╌╌╌╌╌╌╌╌╌┼╌╌╌╌╌╌╌╌╌╌╌╌┤\n │ -1.953087  ┆ -13.176362 ┆ -18.394203 ┆ 17.872992  │\n ├╌╌╌╌╌╌╌╌╌╌╌╌┼╌╌╌╌╌╌╌╌╌╌╌╌┼╌╌╌╌╌╌╌╌╌╌╌╌┼╌╌╌╌╌╌╌╌╌╌╌╌┤\n │ -2.784775  ┆ -4.286248  ┆ -1.530366  ┆ -7.321002  │\n ├╌╌╌╌╌╌╌╌╌╌╌╌┼╌╌╌╌╌╌╌╌╌╌╌╌┼╌╌╌╌╌╌╌╌╌╌╌╌┼╌╌╌╌╌╌╌╌╌╌╌╌┤\n │ ...        ┆ ...        ┆ ...        ┆ ...        │\n ├╌╌╌╌╌╌╌╌╌╌╌╌┼╌╌╌╌╌╌╌╌╌╌╌╌┼╌╌╌╌╌╌╌╌╌╌╌╌┼╌╌╌╌╌╌╌╌╌╌╌╌┤\n │ 4.476875   ┆ -5.416066  ┆ -2.856553  ┆ 0.258304   │\n ├╌╌╌╌╌╌╌╌╌╌╌╌┼╌╌╌╌╌╌╌╌╌╌╌╌┼╌╌╌╌╌╌╌╌╌╌╌╌┼╌╌╌╌╌╌╌╌╌╌╌╌┤\n │ 2.005133   ┆ -0.1735    ┆ 19.711758  ┆ 7.915746   │\n ├╌╌╌╌╌╌╌╌╌╌╌╌┼╌╌╌╌╌╌╌╌╌╌╌╌┼╌╌╌╌╌╌╌╌╌╌╌╌┼╌╌╌╌╌╌╌╌╌╌╌╌┤\n │ 2.7625     ┆ -3.497474  ┆ -0.122077  ┆ 6.913562   │\n ├╌╌╌╌╌╌╌╌╌╌╌╌┼╌╌╌╌╌╌╌╌╌╌╌╌┼╌╌╌╌╌╌╌╌╌╌╌╌┼╌╌╌╌╌╌╌╌╌╌╌╌┤\n │ 2.211476   ┆ -6.093674  ┆ -7.264686  ┆ -15.778568 │\n └────────────┴────────────┴────────────┴────────────┘,\n 'features2': shape: (200, 3)\n ┌────────────┬────────────┬────────────┐\n │ s3         ┆ s4         ┆ s5         │\n │ ---        ┆ ---        ┆ ---        │\n │ f32        ┆ f32        ┆ f32        │\n ╞════════════╪════════════╪════════════╡\n │ -9.392688  ┆ 7.926713   ┆ -22.057686 │\n ├╌╌╌╌╌╌╌╌╌╌╌╌┼╌╌╌╌╌╌╌╌╌╌╌╌┼╌╌╌╌╌╌╌╌╌╌╌╌┤\n │ -15.488579 ┆ 1.7225     ┆ -0.089746  │\n ├╌╌╌╌╌╌╌╌╌╌╌╌┼╌╌╌╌╌╌╌╌╌╌╌╌┼╌╌╌╌╌╌╌╌╌╌╌╌┤\n │ -1.953087  ┆ -13.176362 ┆ -18.394203 │\n ├╌╌╌╌╌╌╌╌╌╌╌╌┼╌╌╌╌╌╌╌╌╌╌╌╌┼╌╌╌╌╌╌╌╌╌╌╌╌┤\n │ -2.784775  ┆ -4.286248  ┆ -1.530366  │\n ├╌╌╌╌╌╌╌╌╌╌╌╌┼╌╌╌╌╌╌╌╌╌╌╌╌┼╌╌╌╌╌╌╌╌╌╌╌╌┤\n │ ...        ┆ ...        ┆ ...        │\n ├╌╌╌╌╌╌╌╌╌╌╌╌┼╌╌╌╌╌╌╌╌╌╌╌╌┼╌╌╌╌╌╌╌╌╌╌╌╌┤\n │ 4.476875   ┆ -5.416066  ┆ -2.856553  │\n ├╌╌╌╌╌╌╌╌╌╌╌╌┼╌╌╌╌╌╌╌╌╌╌╌╌┼╌╌╌╌╌╌╌╌╌╌╌╌┤\n │ 2.005133   ┆ -0.1735    ┆ 19.711758  │\n ├╌╌╌╌╌╌╌╌╌╌╌╌┼╌╌╌╌╌╌╌╌╌╌╌╌┼╌╌╌╌╌╌╌╌╌╌╌╌┤\n │ 2.7625     ┆ -3.497474  ┆ -0.122077  │\n ├╌╌╌╌╌╌╌╌╌╌╌╌┼╌╌╌╌╌╌╌╌╌╌╌╌┼╌╌╌╌╌╌╌╌╌╌╌╌┤\n │ 2.211476   ┆ -6.093674  ┆ -7.264686  │\n └────────────┴────────────┴────────────┘,\n 'features3': shape: (200, 4)\n ┌────────────┬────────────┬────────────┬────────────┐\n │ s3         ┆ s4         ┆ s5         ┆ s6         │\n │ ---        ┆ ---        ┆ ---        ┆ ---        │\n │ f32        ┆ f32        ┆ f32        ┆ f32        │\n ╞════════════╪════════════╪════════════╪════════════╡\n │ -9.392688  ┆ 7.926713   ┆ -22.057686 ┆ -14.6161   │\n ├╌╌╌╌╌╌╌╌╌╌╌╌┼╌╌╌╌╌╌╌╌╌╌╌╌┼╌╌╌╌╌╌╌╌╌╌╌╌┼╌╌╌╌╌╌╌╌╌╌╌╌┤\n │ -15.488579 ┆ 1.7225     ┆ -0.089746  ┆ -8.561509  │\n ├╌╌╌╌╌╌╌╌╌╌╌╌┼╌╌╌╌╌╌╌╌╌╌╌╌┼╌╌╌╌╌╌╌╌╌╌╌╌┼╌╌╌╌╌╌╌╌╌╌╌╌┤\n │ -1.953087  ┆ -13.176362 ┆ -18.394203 ┆ 17.872992  │\n ├╌╌╌╌╌╌╌╌╌╌╌╌┼╌╌╌╌╌╌╌╌╌╌╌╌┼╌╌╌╌╌╌╌╌╌╌╌╌┼╌╌╌╌╌╌╌╌╌╌╌╌┤\n │ -2.784775  ┆ -4.286248  ┆ -1.530366  ┆ -7.321002  │\n ├╌╌╌╌╌╌╌╌╌╌╌╌┼╌╌╌╌╌╌╌╌╌╌╌╌┼╌╌╌╌╌╌╌╌╌╌╌╌┼╌╌╌╌╌╌╌╌╌╌╌╌┤\n │ ...        ┆ ...        ┆ ...        ┆ ...        │\n ├╌╌╌╌╌╌╌╌╌╌╌╌┼╌╌╌╌╌╌╌╌╌╌╌╌┼╌╌╌╌╌╌╌╌╌╌╌╌┼╌╌╌╌╌╌╌╌╌╌╌╌┤\n │ 4.476875   ┆ -5.416066  ┆ -2.856553  ┆ 0.258304   │\n ├╌╌╌╌╌╌╌╌╌╌╌╌┼╌╌╌╌╌╌╌╌╌╌╌╌┼╌╌╌╌╌╌╌╌╌╌╌╌┼╌╌╌╌╌╌╌╌╌╌╌╌┤\n │ 2.005133   ┆ -0.1735    ┆ 19.711758  ┆ 7.915746   │\n ├╌╌╌╌╌╌╌╌╌╌╌╌┼╌╌╌╌╌╌╌╌╌╌╌╌┼╌╌╌╌╌╌╌╌╌╌╌╌┼╌╌╌╌╌╌╌╌╌╌╌╌┤\n │ 2.7625     ┆ -3.497474  ┆ -0.122077  ┆ 6.913562   │\n ├╌╌╌╌╌╌╌╌╌╌╌╌┼╌╌╌╌╌╌╌╌╌╌╌╌┼╌╌╌╌╌╌╌╌╌╌╌╌┼╌╌╌╌╌╌╌╌╌╌╌╌┤\n │ 2.211476   ┆ -6.093674  ┆ -7.264686  ┆ -15.778568 │\n └────────────┴────────────┴────────────┴────────────┘}"
     },
     "execution_count": 12,
     "metadata": {},
     "output_type": "execute_result"
    }
   ],
   "source": [
    "data = client.select(\n",
    "    table_keys={\"features1\": keys, \"features2\": keys, \"features3\": keys}, \n",
    "    feature_columns={\"features1\": [\"s3\", \"s4\", \"s5\", \"s6\"], \"features2\": [\"s3\", \"s4\", \"s5\"], \"features3\": [\"s3\", \"s4\", \"s5\", \"s6\"]}\n",
    ")\n",
    "data"
   ]
  },
  {
   "cell_type": "code",
   "execution_count": 10,
   "metadata": {},
   "outputs": [
    {
     "name": "stdout",
     "output_type": "stream",
     "text": [
      "CPU times: user 6.27 ms, sys: 4.62 ms, total: 10.9 ms\n",
      "Wall time: 20.5 ms\n"
     ]
    },
    {
     "data": {
      "text/plain": "{'features1': shape: (200, 4)\n ┌────────────┬────────────┬────────────┬────────────┐\n │ s3         ┆ s4         ┆ s5         ┆ s6         │\n │ ---        ┆ ---        ┆ ---        ┆ ---        │\n │ f32        ┆ f32        ┆ f32        ┆ f32        │\n ╞════════════╪════════════╪════════════╪════════════╡\n │ -9.392688  ┆ 7.926713   ┆ -22.057686 ┆ -14.6161   │\n ├╌╌╌╌╌╌╌╌╌╌╌╌┼╌╌╌╌╌╌╌╌╌╌╌╌┼╌╌╌╌╌╌╌╌╌╌╌╌┼╌╌╌╌╌╌╌╌╌╌╌╌┤\n │ -15.488579 ┆ 1.7225     ┆ -0.089746  ┆ -8.561509  │\n ├╌╌╌╌╌╌╌╌╌╌╌╌┼╌╌╌╌╌╌╌╌╌╌╌╌┼╌╌╌╌╌╌╌╌╌╌╌╌┼╌╌╌╌╌╌╌╌╌╌╌╌┤\n │ -1.953087  ┆ -13.176362 ┆ -18.394203 ┆ 17.872992  │\n ├╌╌╌╌╌╌╌╌╌╌╌╌┼╌╌╌╌╌╌╌╌╌╌╌╌┼╌╌╌╌╌╌╌╌╌╌╌╌┼╌╌╌╌╌╌╌╌╌╌╌╌┤\n │ -2.784775  ┆ -4.286248  ┆ -1.530366  ┆ -7.321002  │\n ├╌╌╌╌╌╌╌╌╌╌╌╌┼╌╌╌╌╌╌╌╌╌╌╌╌┼╌╌╌╌╌╌╌╌╌╌╌╌┼╌╌╌╌╌╌╌╌╌╌╌╌┤\n │ ...        ┆ ...        ┆ ...        ┆ ...        │\n ├╌╌╌╌╌╌╌╌╌╌╌╌┼╌╌╌╌╌╌╌╌╌╌╌╌┼╌╌╌╌╌╌╌╌╌╌╌╌┼╌╌╌╌╌╌╌╌╌╌╌╌┤\n │ 4.476875   ┆ -5.416066  ┆ -2.856553  ┆ 0.258304   │\n ├╌╌╌╌╌╌╌╌╌╌╌╌┼╌╌╌╌╌╌╌╌╌╌╌╌┼╌╌╌╌╌╌╌╌╌╌╌╌┼╌╌╌╌╌╌╌╌╌╌╌╌┤\n │ 2.005133   ┆ -0.1735    ┆ 19.711758  ┆ 7.915746   │\n ├╌╌╌╌╌╌╌╌╌╌╌╌┼╌╌╌╌╌╌╌╌╌╌╌╌┼╌╌╌╌╌╌╌╌╌╌╌╌┼╌╌╌╌╌╌╌╌╌╌╌╌┤\n │ 2.7625     ┆ -3.497474  ┆ -0.122077  ┆ 6.913562   │\n ├╌╌╌╌╌╌╌╌╌╌╌╌┼╌╌╌╌╌╌╌╌╌╌╌╌┼╌╌╌╌╌╌╌╌╌╌╌╌┼╌╌╌╌╌╌╌╌╌╌╌╌┤\n │ 2.211476   ┆ -6.093674  ┆ -7.264686  ┆ -15.778568 │\n └────────────┴────────────┴────────────┴────────────┘,\n 'features2': shape: (200, 3)\n ┌────────────┬────────────┬────────────┐\n │ s3         ┆ s4         ┆ s5         │\n │ ---        ┆ ---        ┆ ---        │\n │ f32        ┆ f32        ┆ f32        │\n ╞════════════╪════════════╪════════════╡\n │ -9.392688  ┆ 7.926713   ┆ -22.057686 │\n ├╌╌╌╌╌╌╌╌╌╌╌╌┼╌╌╌╌╌╌╌╌╌╌╌╌┼╌╌╌╌╌╌╌╌╌╌╌╌┤\n │ -15.488579 ┆ 1.7225     ┆ -0.089746  │\n ├╌╌╌╌╌╌╌╌╌╌╌╌┼╌╌╌╌╌╌╌╌╌╌╌╌┼╌╌╌╌╌╌╌╌╌╌╌╌┤\n │ -1.953087  ┆ -13.176362 ┆ -18.394203 │\n ├╌╌╌╌╌╌╌╌╌╌╌╌┼╌╌╌╌╌╌╌╌╌╌╌╌┼╌╌╌╌╌╌╌╌╌╌╌╌┤\n │ -2.784775  ┆ -4.286248  ┆ -1.530366  │\n ├╌╌╌╌╌╌╌╌╌╌╌╌┼╌╌╌╌╌╌╌╌╌╌╌╌┼╌╌╌╌╌╌╌╌╌╌╌╌┤\n │ ...        ┆ ...        ┆ ...        │\n ├╌╌╌╌╌╌╌╌╌╌╌╌┼╌╌╌╌╌╌╌╌╌╌╌╌┼╌╌╌╌╌╌╌╌╌╌╌╌┤\n │ 4.476875   ┆ -5.416066  ┆ -2.856553  │\n ├╌╌╌╌╌╌╌╌╌╌╌╌┼╌╌╌╌╌╌╌╌╌╌╌╌┼╌╌╌╌╌╌╌╌╌╌╌╌┤\n │ 2.005133   ┆ -0.1735    ┆ 19.711758  │\n ├╌╌╌╌╌╌╌╌╌╌╌╌┼╌╌╌╌╌╌╌╌╌╌╌╌┼╌╌╌╌╌╌╌╌╌╌╌╌┤\n │ 2.7625     ┆ -3.497474  ┆ -0.122077  │\n ├╌╌╌╌╌╌╌╌╌╌╌╌┼╌╌╌╌╌╌╌╌╌╌╌╌┼╌╌╌╌╌╌╌╌╌╌╌╌┤\n │ 2.211476   ┆ -6.093674  ┆ -7.264686  │\n └────────────┴────────────┴────────────┘,\n 'features3': shape: (200, 4)\n ┌────────────┬────────────┬────────────┬────────────┐\n │ s3         ┆ s4         ┆ s5         ┆ s6         │\n │ ---        ┆ ---        ┆ ---        ┆ ---        │\n │ f32        ┆ f32        ┆ f32        ┆ f32        │\n ╞════════════╪════════════╪════════════╪════════════╡\n │ -9.392688  ┆ 7.926713   ┆ -22.057686 ┆ -14.6161   │\n ├╌╌╌╌╌╌╌╌╌╌╌╌┼╌╌╌╌╌╌╌╌╌╌╌╌┼╌╌╌╌╌╌╌╌╌╌╌╌┼╌╌╌╌╌╌╌╌╌╌╌╌┤\n │ -15.488579 ┆ 1.7225     ┆ -0.089746  ┆ -8.561509  │\n ├╌╌╌╌╌╌╌╌╌╌╌╌┼╌╌╌╌╌╌╌╌╌╌╌╌┼╌╌╌╌╌╌╌╌╌╌╌╌┼╌╌╌╌╌╌╌╌╌╌╌╌┤\n │ -1.953087  ┆ -13.176362 ┆ -18.394203 ┆ 17.872992  │\n ├╌╌╌╌╌╌╌╌╌╌╌╌┼╌╌╌╌╌╌╌╌╌╌╌╌┼╌╌╌╌╌╌╌╌╌╌╌╌┼╌╌╌╌╌╌╌╌╌╌╌╌┤\n │ -2.784775  ┆ -4.286248  ┆ -1.530366  ┆ -7.321002  │\n ├╌╌╌╌╌╌╌╌╌╌╌╌┼╌╌╌╌╌╌╌╌╌╌╌╌┼╌╌╌╌╌╌╌╌╌╌╌╌┼╌╌╌╌╌╌╌╌╌╌╌╌┤\n │ ...        ┆ ...        ┆ ...        ┆ ...        │\n ├╌╌╌╌╌╌╌╌╌╌╌╌┼╌╌╌╌╌╌╌╌╌╌╌╌┼╌╌╌╌╌╌╌╌╌╌╌╌┼╌╌╌╌╌╌╌╌╌╌╌╌┤\n │ 4.476875   ┆ -5.416066  ┆ -2.856553  ┆ 0.258304   │\n ├╌╌╌╌╌╌╌╌╌╌╌╌┼╌╌╌╌╌╌╌╌╌╌╌╌┼╌╌╌╌╌╌╌╌╌╌╌╌┼╌╌╌╌╌╌╌╌╌╌╌╌┤\n │ 2.005133   ┆ -0.1735    ┆ 19.711758  ┆ 7.915746   │\n ├╌╌╌╌╌╌╌╌╌╌╌╌┼╌╌╌╌╌╌╌╌╌╌╌╌┼╌╌╌╌╌╌╌╌╌╌╌╌┼╌╌╌╌╌╌╌╌╌╌╌╌┤\n │ 2.7625     ┆ -3.497474  ┆ -0.122077  ┆ 6.913562   │\n ├╌╌╌╌╌╌╌╌╌╌╌╌┼╌╌╌╌╌╌╌╌╌╌╌╌┼╌╌╌╌╌╌╌╌╌╌╌╌┼╌╌╌╌╌╌╌╌╌╌╌╌┤\n │ 2.211476   ┆ -6.093674  ┆ -7.264686  ┆ -15.778568 │\n └────────────┴────────────┴────────────┴────────────┘}"
     },
     "execution_count": 10,
     "metadata": {},
     "output_type": "execute_result"
    }
   ],
   "source": [
    "%time client.select(table_keys={\"features1\": keys, \"features2\": keys, \"features3\": keys}, feature_columns={\"features1\": [\"s3\", \"s4\", \"s5\", \"s6\"], \"features2\": [\"s3\", \"s4\", \"s5\"], \"features3\": [\"s3\", \"s4\", \"s5\", \"s6\"]})"
   ]
  },
  {
   "cell_type": "code",
   "execution_count": null,
   "metadata": {},
   "outputs": [],
   "source": []
  },
  {
   "cell_type": "code",
   "execution_count": null,
   "metadata": {},
   "outputs": [],
   "source": []
  }
 ],
 "metadata": {
  "kernelspec": {
   "display_name": "Python 3.8.10 64-bit ('home': conda)",
   "name": "python3810jvsc74a57bd05eedc9e7f57ad5f44d51353385b0e541b4e7dfac2987850b50281369b818528d"
  },
  "language_info": {
   "codemirror_mode": {
    "name": "ipython",
    "version": 3
   },
   "file_extension": ".py",
   "mimetype": "text/x-python",
   "name": "python",
   "nbconvert_exporter": "python",
   "pygments_lexer": "ipython3",
   "version": "3.8.10"
  },
  "orig_nbformat": 2
 },
 "nbformat": 4,
 "nbformat_minor": 2
}